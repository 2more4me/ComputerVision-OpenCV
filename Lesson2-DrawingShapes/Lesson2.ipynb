{
 "cells": [
  {
   "cell_type": "code",
   "execution_count": 1,
   "metadata": {},
   "outputs": [],
   "source": [
    "import cv2"
   ]
  },
  {
   "cell_type": "code",
   "execution_count": 2,
   "metadata": {},
   "outputs": [],
   "source": [
    "img = cv2.imread('sea.jpeg')"
   ]
  },
  {
   "cell_type": "code",
   "execution_count": 3,
   "metadata": {},
   "outputs": [
    {
     "data": {
      "text/plain": [
       "numpy.ndarray"
      ]
     },
     "execution_count": 3,
     "metadata": {},
     "output_type": "execute_result"
    }
   ],
   "source": [
    "type(img)"
   ]
  },
  {
   "cell_type": "code",
   "execution_count": 10,
   "metadata": {},
   "outputs": [
    {
     "data": {
      "text/plain": [
       "-1"
      ]
     },
     "execution_count": 10,
     "metadata": {},
     "output_type": "execute_result"
    }
   ],
   "source": [
    "cv2.imshow(\"Brrrrrr\", img)\n",
    "cv2.waitKey(0)"
   ]
  },
  {
   "cell_type": "code",
   "execution_count": null,
   "metadata": {},
   "outputs": [],
   "source": [
    "img = cv2.resize(img, (0,0), fx=.5, fy=.5)"
   ]
  },
  {
   "cell_type": "markdown",
   "metadata": {},
   "source": [
    "## Lets draw square like you see in object detection tutorials!\n",
    "x1,y1 ------<br>\n",
    "| &nbsp; &nbsp; &nbsp; &nbsp; &nbsp; &nbsp; &nbsp; &nbsp; &nbsp; |<br>\n",
    "| &nbsp; &nbsp; &nbsp; &nbsp; &nbsp; &nbsp; &nbsp; &nbsp; &nbsp; |<br>\n",
    "| &nbsp; &nbsp; &nbsp; &nbsp; &nbsp; &nbsp; &nbsp; &nbsp; &nbsp; |<br>\n",
    "-------------x2,y2"
   ]
  },
  {
   "cell_type": "code",
   "execution_count": 5,
   "metadata": {
    "scrolled": true
   },
   "outputs": [
    {
     "data": {
      "text/plain": [
       "array([[[151, 138, 124],\n",
       "        [151, 138, 124],\n",
       "        [151, 138, 124],\n",
       "        ...,\n",
       "        [161, 152, 142],\n",
       "        [160, 151, 141],\n",
       "        [157, 148, 138]],\n",
       "\n",
       "       [[150, 137, 123],\n",
       "        [150, 137, 123],\n",
       "        [150, 137, 123],\n",
       "        ...,\n",
       "        [161, 152, 139],\n",
       "        [160, 151, 138],\n",
       "        [157, 148, 135]],\n",
       "\n",
       "       [[149, 136, 122],\n",
       "        [149, 136, 122],\n",
       "        [149, 136, 122],\n",
       "        ...,\n",
       "        [159, 150, 137],\n",
       "        [158, 149, 136],\n",
       "        [157, 148, 135]],\n",
       "\n",
       "       ...,\n",
       "\n",
       "       [[150, 146, 145],\n",
       "        [150, 146, 145],\n",
       "        [150, 146, 145],\n",
       "        ...,\n",
       "        [167, 168, 166],\n",
       "        [167, 168, 166],\n",
       "        [166, 167, 165]],\n",
       "\n",
       "       [[150, 146, 145],\n",
       "        [152, 148, 147],\n",
       "        [152, 148, 147],\n",
       "        ...,\n",
       "        [168, 169, 167],\n",
       "        [166, 167, 165],\n",
       "        [168, 169, 167]],\n",
       "\n",
       "       [[149, 145, 144],\n",
       "        [151, 147, 146],\n",
       "        [151, 147, 146],\n",
       "        ...,\n",
       "        [168, 169, 167],\n",
       "        [166, 167, 165],\n",
       "        [164, 165, 163]]], dtype=uint8)"
      ]
     },
     "execution_count": 5,
     "metadata": {},
     "output_type": "execute_result"
    }
   ],
   "source": [
    "cv2.rectangle(img, (430, 216), (524, 285), (0,255,0), 5)"
   ]
  },
  {
   "cell_type": "code",
   "execution_count": 6,
   "metadata": {},
   "outputs": [
    {
     "data": {
      "text/plain": [
       "array([[[151, 138, 124],\n",
       "        [151, 138, 124],\n",
       "        [151, 138, 124],\n",
       "        ...,\n",
       "        [161, 152, 142],\n",
       "        [160, 151, 141],\n",
       "        [157, 148, 138]],\n",
       "\n",
       "       [[150, 137, 123],\n",
       "        [150, 137, 123],\n",
       "        [150, 137, 123],\n",
       "        ...,\n",
       "        [161, 152, 139],\n",
       "        [160, 151, 138],\n",
       "        [157, 148, 135]],\n",
       "\n",
       "       [[149, 136, 122],\n",
       "        [149, 136, 122],\n",
       "        [149, 136, 122],\n",
       "        ...,\n",
       "        [159, 150, 137],\n",
       "        [158, 149, 136],\n",
       "        [157, 148, 135]],\n",
       "\n",
       "       ...,\n",
       "\n",
       "       [[150, 146, 145],\n",
       "        [150, 146, 145],\n",
       "        [150, 146, 145],\n",
       "        ...,\n",
       "        [167, 168, 166],\n",
       "        [167, 168, 166],\n",
       "        [166, 167, 165]],\n",
       "\n",
       "       [[150, 146, 145],\n",
       "        [152, 148, 147],\n",
       "        [152, 148, 147],\n",
       "        ...,\n",
       "        [168, 169, 167],\n",
       "        [166, 167, 165],\n",
       "        [168, 169, 167]],\n",
       "\n",
       "       [[149, 145, 144],\n",
       "        [151, 147, 146],\n",
       "        [151, 147, 146],\n",
       "        ...,\n",
       "        [168, 169, 167],\n",
       "        [166, 167, 165],\n",
       "        [164, 165, 163]]], dtype=uint8)"
      ]
     },
     "execution_count": 6,
     "metadata": {},
     "output_type": "execute_result"
    }
   ],
   "source": [
    "cv2.rectangle(img, (973, 259), (1070, 326), (255,0,255), 5)"
   ]
  },
  {
   "cell_type": "code",
   "execution_count": 7,
   "metadata": {},
   "outputs": [
    {
     "data": {
      "text/plain": [
       "array([[[151, 138, 124],\n",
       "        [151, 138, 124],\n",
       "        [151, 138, 124],\n",
       "        ...,\n",
       "        [161, 152, 142],\n",
       "        [160, 151, 141],\n",
       "        [157, 148, 138]],\n",
       "\n",
       "       [[150, 137, 123],\n",
       "        [150, 137, 123],\n",
       "        [150, 137, 123],\n",
       "        ...,\n",
       "        [161, 152, 139],\n",
       "        [160, 151, 138],\n",
       "        [157, 148, 135]],\n",
       "\n",
       "       [[149, 136, 122],\n",
       "        [149, 136, 122],\n",
       "        [149, 136, 122],\n",
       "        ...,\n",
       "        [159, 150, 137],\n",
       "        [158, 149, 136],\n",
       "        [157, 148, 135]],\n",
       "\n",
       "       ...,\n",
       "\n",
       "       [[150, 146, 145],\n",
       "        [150, 146, 145],\n",
       "        [150, 146, 145],\n",
       "        ...,\n",
       "        [167, 168, 166],\n",
       "        [167, 168, 166],\n",
       "        [166, 167, 165]],\n",
       "\n",
       "       [[150, 146, 145],\n",
       "        [152, 148, 147],\n",
       "        [152, 148, 147],\n",
       "        ...,\n",
       "        [168, 169, 167],\n",
       "        [166, 167, 165],\n",
       "        [168, 169, 167]],\n",
       "\n",
       "       [[149, 145, 144],\n",
       "        [151, 147, 146],\n",
       "        [151, 147, 146],\n",
       "        ...,\n",
       "        [168, 169, 167],\n",
       "        [166, 167, 165],\n",
       "        [164, 165, 163]]], dtype=uint8)"
      ]
     },
     "execution_count": 7,
     "metadata": {},
     "output_type": "execute_result"
    }
   ],
   "source": [
    "cv2.putText(img, 'Penguin!', (432,320), cv2.FONT_HERSHEY_SIMPLEX, 1, (0,0,0), 2)"
   ]
  },
  {
   "cell_type": "code",
   "execution_count": 8,
   "metadata": {},
   "outputs": [
    {
     "data": {
      "text/plain": [
       "array([[[151, 138, 124],\n",
       "        [151, 138, 124],\n",
       "        [151, 138, 124],\n",
       "        ...,\n",
       "        [161, 152, 142],\n",
       "        [160, 151, 141],\n",
       "        [157, 148, 138]],\n",
       "\n",
       "       [[150, 137, 123],\n",
       "        [150, 137, 123],\n",
       "        [150, 137, 123],\n",
       "        ...,\n",
       "        [161, 152, 139],\n",
       "        [160, 151, 138],\n",
       "        [157, 148, 135]],\n",
       "\n",
       "       [[149, 136, 122],\n",
       "        [149, 136, 122],\n",
       "        [149, 136, 122],\n",
       "        ...,\n",
       "        [159, 150, 137],\n",
       "        [158, 149, 136],\n",
       "        [157, 148, 135]],\n",
       "\n",
       "       ...,\n",
       "\n",
       "       [[150, 146, 145],\n",
       "        [150, 146, 145],\n",
       "        [150, 146, 145],\n",
       "        ...,\n",
       "        [167, 168, 166],\n",
       "        [167, 168, 166],\n",
       "        [166, 167, 165]],\n",
       "\n",
       "       [[150, 146, 145],\n",
       "        [152, 148, 147],\n",
       "        [152, 148, 147],\n",
       "        ...,\n",
       "        [168, 169, 167],\n",
       "        [166, 167, 165],\n",
       "        [168, 169, 167]],\n",
       "\n",
       "       [[149, 145, 144],\n",
       "        [151, 147, 146],\n",
       "        [151, 147, 146],\n",
       "        ...,\n",
       "        [168, 169, 167],\n",
       "        [166, 167, 165],\n",
       "        [164, 165, 163]]], dtype=uint8)"
      ]
     },
     "execution_count": 8,
     "metadata": {},
     "output_type": "execute_result"
    }
   ],
   "source": [
    "cv2.circle(img, (252,252), 50, (100,100,5), 5)"
   ]
  },
  {
   "cell_type": "code",
   "execution_count": 9,
   "metadata": {},
   "outputs": [
    {
     "data": {
      "text/plain": [
       "True"
      ]
     },
     "execution_count": 9,
     "metadata": {},
     "output_type": "execute_result"
    }
   ],
   "source": [
    "cv2.imwrite('smallfinal.png',img)"
   ]
  },
  {
   "cell_type": "code",
   "execution_count": null,
   "metadata": {},
   "outputs": [],
   "source": []
  }
 ],
 "metadata": {
  "kernelspec": {
   "display_name": "Python 3",
   "language": "python",
   "name": "python3"
  },
  "language_info": {
   "codemirror_mode": {
    "name": "ipython",
    "version": 3
   },
   "file_extension": ".py",
   "mimetype": "text/x-python",
   "name": "python",
   "nbconvert_exporter": "python",
   "pygments_lexer": "ipython3",
   "version": "3.8.3"
  }
 },
 "nbformat": 4,
 "nbformat_minor": 4
}
